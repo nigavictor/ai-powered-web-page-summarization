{
 "cells": [
  {
   "cell_type": "markdown",
   "id": "d15d8294-3328-4e07-ad16-8a03e9bbfdb9",
   "metadata": {},
   "source": [
    "# Web Page Summarization: Harnessing the Power of AI\n",
    "#### *- Victor Niga*\n",
    "## Introduction\n",
    "\n",
    "This Jupyter Notebook demonstrates how to summarize web pages using the DeepSeek API(and ChatGPT API). The code fetches the content of a web page, cleans it up, and then uses the DeepSeek API to generate a summary. The notebook also includes a comparison with a similar approach using the OpenAI API, which is commented out for reference.\n",
    "\n",
    "## Prerequisites\n",
    "Before running this notebook, ensure you have the following:\n",
    "\n",
    "1. Python 3.x installed.\n",
    "2. Required Python libraries: requests, beautifulsoup4, python-dotenv, IPython, and deepseek.\n",
    "3. A .env file with your DeepSeek API key.\n",
    "\n",
    "## Installation\n",
    "To install the required libraries, run the following command:"
   ]
  },
  {
   "cell_type": "code",
   "execution_count": null,
   "id": "3b066117-f0f4-4fcd-bb2d-f8ec4cf51ed1",
   "metadata": {},
   "outputs": [],
   "source": [
    "# pip install requests beautifulsoup4 python-dotenv IPython deepseek"
   ]
  },
  {
   "cell_type": "markdown",
   "id": "62ccfcc3-8dbb-4fe4-af82-7bd3f13afdd1",
   "metadata": {},
   "source": [
    "## Imports\n",
    "First, we need to import the necessary libraries. These include libraries for handling HTTP requests, parsing HTML, loading environment variables, and interacting with the DeepSeek API."
   ]
  },
  {
   "cell_type": "code",
   "execution_count": 13,
   "id": "4e2a9393-7767-488e-a8bf-27c12dca35bd",
   "metadata": {
    "scrolled": true
   },
   "outputs": [],
   "source": [
    "# imports\n",
    "\n",
    "import os\n",
    "import requests\n",
    "from dotenv import load_dotenv\n",
    "from bs4 import BeautifulSoup\n",
    "from IPython.display import Markdown, display\n",
    "from openai import OpenAI\n",
    "from deepseek import DeepSeekAPI \n",
    "import deepseek.api as api  # Import the api submodule\n"
   ]
  },
  {
   "cell_type": "markdown",
   "id": "6900b2a8-6384-4316-8aaa-5e519fca4254",
   "metadata": {},
   "source": [
    "## Loading Environment Variables\n",
    "We load the environment variables from a .env file. This file should contain your DeepSeek API key."
   ]
  },
  {
   "cell_type": "code",
   "execution_count": 14,
   "id": "7b87cadb-d513-4303-baee-a37b6f938e4d",
   "metadata": {},
   "outputs": [
    {
     "name": "stdout",
     "output_type": "stream",
     "text": [
      "An API key was found, but it doesn't start sk-proj-; please check you're using the right key - see troubleshooting notebook\n"
     ]
    }
   ],
   "source": [
    "# Load environment variables in a file called .env\n",
    "\n",
    "load_dotenv(override=True)\n",
    "api_key = os.getenv('DEEPOSEEK_API_KEY')\n",
    "\n",
    "# api_key = os.getenv('OPENAI_API_KEY')"
   ]
  },
  {
   "cell_type": "markdown",
   "id": "1dcc5687-cfbe-4eb8-89f0-fdd4b1b4d126",
   "metadata": {},
   "source": [
    "## Checking the API Key\n",
    "We perform a few checks to ensure the API key is correctly set up."
   ]
  },
  {
   "cell_type": "code",
   "execution_count": null,
   "id": "26dbd368-5368-4fb4-b049-728a3e17f5f5",
   "metadata": {},
   "outputs": [],
   "source": [
    "# Check the key\n",
    "if not api_key:\n",
    "    print(\"No API key was found - please head over to the troubleshooting notebook in this folder to identify & fix!\")\n",
    "elif not api_key.startswith(\"sk-proj-\"):\n",
    "    print(\"An API key was found, but it doesn't start sk-proj-; please check you're using the right key - see troubleshooting notebook\")\n",
    "elif api_key.strip() != api_key:\n",
    "    print(\"An API key was found, but it looks like it might have space or tab characters at the start or end - please remove them - see troubleshooting notebook\")\n",
    "else:\n",
    "    print(\"API key found and looks good so far!\")\n"
   ]
  },
  {
   "cell_type": "markdown",
   "id": "77db394c-0551-4228-b245-a690c8d5d8dd",
   "metadata": {},
   "source": [
    "## Initializing the DeepSeek API\n",
    "We initialize the DeepSeek API with the API key."
   ]
  },
  {
   "cell_type": "code",
   "execution_count": 15,
   "id": "019974d9-f3ad-4a8a-b5f9-0a3719aea2d3",
   "metadata": {},
   "outputs": [],
   "source": [
    "deepseek = DeepSeekAPI(api_key)\n",
    "\n",
    "# openai = OpenAI()"
   ]
  },
  {
   "cell_type": "markdown",
   "id": "733bca75-3ea5-4d81-9815-39ba5bbeb85d",
   "metadata": {},
   "source": [
    "## Defining the Website Class\n",
    "We define a Website class to represent a web page. This class fetches the web page content, cleans it up, and extracts the title and main text."
   ]
  },
  {
   "cell_type": "code",
   "execution_count": 20,
   "id": "c5e793b2-6775-426a-a139-4848291d0463",
   "metadata": {},
   "outputs": [],
   "source": [
    "# Some websites need you to use proper headers when fetching them:\n",
    "headers = {\n",
    " \"User-Agent\": \"Mozilla/5.0 (Windows NT 10.0; Win64; x64) AppleWebKit/537.36 (KHTML, like Gecko) Chrome/117.0.0.0 Safari/537.36\"\n",
    "}\n",
    "\n",
    "class Website:\n",
    "\n",
    "    def __init__(self, url):\n",
    "        \"\"\"\n",
    "        Create this Website object from the given url using the BeautifulSoup library\n",
    "        \"\"\"\n",
    "        self.url = url\n",
    "        response = requests.get(url, headers=headers)\n",
    "        soup = BeautifulSoup(response.content, 'html.parser')\n",
    "        self.title = soup.title.string if soup.title else \"No title found\"\n",
    "        for irrelevant in soup.body([\"script\", \"style\", \"img\", \"input\"]):\n",
    "            irrelevant.decompose()\n",
    "        self.text = soup.body.get_text(separator=\"\\n\", strip=True)"
   ]
  },
  {
   "cell_type": "markdown",
   "id": "6a478a0c-2c53-48ff-869c-4d08199931e1",
   "metadata": {},
   "source": [
    "## Summarizing the Web Page\n",
    "We define a function summarize that uses the DeepSeek API to generate a summary of the web page. A similar approach using the OpenAI API is commented out for reference."
   ]
  },
  {
   "cell_type": "code",
   "execution_count": 29,
   "id": "905b9919-aba7-45b5-ae65-81b3d1d78e34",
   "metadata": {},
   "outputs": [],
   "source": [
    "# # And now: call the deepseek API. \n",
    "\n",
    "def summarize(url):\n",
    "    website = Website(url)\n",
    "    response = deepseek.chat_completion(\n",
    "        model=\"deepseek-chat\",  # Replace with the actual model name if different\n",
    "        messages=messages_for(website)\n",
    "    )\n",
    "    return response\n",
    "\n",
    "# # And now: call the OpenAI API. \n",
    "\n",
    "# def summarize(url):\n",
    "#     website = Website(url)\n",
    "#     response = openai.chat.completions.create(\n",
    "#         model = \"gpt-4o-mini\",\n",
    "#         messages = messages_for(website)\n",
    "#     )\n",
    "#     return response.choices[0].message.content\n"
   ]
  },
  {
   "cell_type": "markdown",
   "id": "9394d1d1-6c97-44e5-9753-a6aa8a0df3d8",
   "metadata": {},
   "source": [
    "## Displaying the Summary\n",
    "We define a function display_summary to display the summary in a Jupyter Notebook using Markdown."
   ]
  },
  {
   "cell_type": "code",
   "execution_count": 31,
   "id": "3d926d59-450e-4609-92ba-2d6f244f1342",
   "metadata": {},
   "outputs": [],
   "source": [
    "# A function to display this nicely in the Jupyter output, using markdown\n",
    "\n",
    "def display_summary(url):\n",
    "    summary = summarize(url)\n",
    "    display(Markdown(summary))"
   ]
  },
  {
   "cell_type": "markdown",
   "id": "fc11d0f0-ed0f-446d-9a9a-c8e89818820a",
   "metadata": {},
   "source": [
    "## Running the Summarization\n",
    "Finally, we run the summarization on a few example URLs."
   ]
  },
  {
   "cell_type": "code",
   "execution_count": 41,
   "id": "3018853a-445f-41ff-9560-d925d1774b2f",
   "metadata": {},
   "outputs": [
    {
     "data": {
      "text/markdown": [
       "```markdown\n",
       "# Summary of Opportunities for Young Kenyans Website\n",
       "\n",
       "The website **Opportunities for Young Kenyans** is a platform dedicated to helping young Kenyans launch their careers by connecting them with genuine employers. It provides a wide range of job and internship opportunities across various sectors, including business, finance, health, agriculture, and more. The site also offers resources for identifying fraudulent job postings and emphasizes ethical recruitment practices.\n",
       "\n",
       "## Key Features:\n",
       "- **Job Categories**: Casual jobs, internships, government positions, NGO roles, and more.\n",
       "- **Sectors Covered**: Business/Finance, Health/Medicine, Banking, Agriculture, Sales, ICT/IT, and others.\n",
       "- **Scholarships**: Information on bursaries and scholarship programs like the NG-CDF Embakasi West Constituency Bursary and KCB Foundation Scholarships.\n",
       "- **Internships**: Opportunities at organizations like Microsoft, Technical University of Mombasa, and ALN Kenya.\n",
       "- **Government Jobs**: Vacancies in national and county governments, including Nairobi City County and Tharaka Nithi County.\n",
       "\n",
       "## Recent Announcements:\n",
       "- **Co-operative Bank**: Multiple openings for roles like Digital & E-Channels Support Officer, Enterprise Business Analyst, and Marketing Officer.\n",
       "- **Microsoft**: Internship opportunities in Nairobi.\n",
       "- **County Governments**: Numerous vacancies in Nairobi, Kericho, and Tana River counties.\n",
       "- **Scholarships**: Applications open for programs like the Ujuzi Mashinani Program and Thailand International Postgraduate Programme (TIPP) 2025.\n",
       "\n",
       "## Additional Resources:\n",
       "- **Fraud Prevention**: Tips on identifying fraudulent job postings.\n",
       "- **Partnerships**: Collaboration with employers and organizations to provide genuine opportunities.\n",
       "- **Contact Information**: Easy access to support and reporting mechanisms for unethical recruitment practices.\n",
       "\n",
       "The website also includes a disclaimer warning against recruitment agents demanding money or favors, urging users to report such incidents to the authorities.\n",
       "\n",
       "For more details, visit the website or contact them via their provided channels.\n",
       "```"
      ],
      "text/plain": [
       "<IPython.core.display.Markdown object>"
      ]
     },
     "metadata": {},
     "output_type": "display_data"
    }
   ],
   "source": [
    "display_summary(\"https://opportunitiesforyoungkenyans.co.ke/\")"
   ]
  },
  {
   "cell_type": "code",
   "execution_count": 33,
   "id": "45d83403-a24c-44b5-84ac-961449b4008f",
   "metadata": {},
   "outputs": [
    {
     "data": {
      "text/markdown": [
       "```markdown\n",
       "# Summary of CNN Website\n",
       "\n",
       "The CNN website provides the latest news, videos, and updates across various categories, including US and global news, politics, business, health, entertainment, sports, science, and more. Below is a summary of the key content:\n",
       "\n",
       "## Top Stories\n",
       "- **Ukraine-Russia War**: Tensions escalate as US President Trump criticizes Ukraine's leader, Volodymyr Zelensky, while civilian casualties rise. Trump's national security team discusses next steps.\n",
       "- **US Tariffs on Mexico and Canada**: Trump confirms tariffs will take effect, potentially impacting grocery prices and the economy.\n",
       "- **SpaceX Starship**: Preparations for fueling are underway.\n",
       "- **Pope Francis Health Update**: The Vatican reports two episodes of acute respiratory failure.\n",
       "- **Human Smuggling Ring**: Four individuals charged with operating one of the largest human smuggling rings in the US.\n",
       "- **Israel-Hamas War**: Gaza truce remains fragile as Israel sets new conditions.\n",
       "\n",
       "## Featured Videos\n",
       "- Democratic senator advises Zelensky on US relations.\n",
       "- Analysis of Americans' views on Russia.\n",
       "- Zelensky discusses saving the US-Ukraine relationship.\n",
       "\n",
       "## Global News Highlights\n",
       "- **Germany**: Nudist beaches face issues with clothed troublemakers.\n",
       "- **China**: Mars rover discovers evidence of ancient water.\n",
       "- **Switzerland**: Sledding is described as an extreme sport.\n",
       "\n",
       "## Entertainment & Style\n",
       "- **Oscars 2025**: Highlights include Adam Sandler's casualwear mocked by the host and Andrew Garfield's tribute to his mother.\n",
       "- **Julia Fox**: Her \"naked\" dress with strategically placed hair sparks discussion.\n",
       "\n",
       "## Science & Technology\n",
       "- **Leonardo da Vinci**: Mysterious tunnels from the 1400s may have been discovered.\n",
       "- **Firefly Aerospace**: Blue Ghost lander successfully touches down on the moon.\n",
       "\n",
       "## Business & Economy\n",
       "- **Trump Tariffs**: Potential impact on car prices and the economy.\n",
       "- **Nippon Steel**: Continues efforts to acquire US Steel despite opposition.\n",
       "\n",
       "## Health & Wellness\n",
       "- **Running Tips**: How to enjoy running after just one month of practice.\n",
       "- **Alzheimer's Research**: Historical challenges to understanding the disease.\n",
       "\n",
       "## Sports\n",
       "- **Ex-FIFA and UEFA Chiefs**: Sepp Blatter and Michel Platini face corruption charges.\n",
       "- **Scottie Scheffler**: New series 'Full Swing' highlights his arrest and career moments.\n",
       "\n",
       "## Photos & Galleries\n",
       "- **Oscars 2025**: Images from the Academy Awards.\n",
       "- **Ramadan**: Muslims worldwide observe the holy month.\n",
       "\n",
       "## In Case You Missed It\n",
       "- **Italy Travel**: A couple's attempt to salvage their relationship takes an unexpected turn.\n",
       "- **Guinness World Record**: The world's smallest park is officially recognized.\n",
       "\n",
       "CNN also offers live TV, podcasts, newsletters, and interactive features like games and quizzes. The site encourages user feedback on ads and technical issues.\n",
       "```"
      ],
      "text/plain": [
       "<IPython.core.display.Markdown object>"
      ]
     },
     "metadata": {},
     "output_type": "display_data"
    }
   ],
   "source": [
    "display_summary(\"https://cnn.com\")"
   ]
  },
  {
   "cell_type": "code",
   "execution_count": 34,
   "id": "75e9fd40-b354-4341-991e-863ef2e59db7",
   "metadata": {},
   "outputs": [
    {
     "data": {
      "text/markdown": [
       "```markdown\n",
       "# Anthropic Website Summary\n",
       "\n",
       "Anthropic is an AI safety and research company based in San Francisco, focusing on creating reliable and beneficial AI systems. The website highlights their latest AI model, **Claude 3.7 Sonnet**, described as their most intelligent model yet, and introduces **Claude Code**, a tool for coding. Key features include:\n",
       "\n",
       "- **Claude 3.7 Sonnet**: A hybrid reasoning model now available for use.\n",
       "- **Claude Code**: An agentic tool designed for coding tasks.\n",
       "- **Enterprise Solutions**: Tailored AI products for businesses.\n",
       "- **Research and Safety**: Emphasis on AI alignment and harmlessness, with publications like *Constitutional AI: Harmlessness from AI Feedback* and *Core Views on AI Safety*.\n",
       "\n",
       "The website also provides resources for developers, including APIs to build AI-powered applications, and information on careers, research, and company updates. Anthropic's work spans machine learning, physics, policy, and product development, with a strong focus on interdisciplinary collaboration.\n",
       "```"
      ],
      "text/plain": [
       "<IPython.core.display.Markdown object>"
      ]
     },
     "metadata": {},
     "output_type": "display_data"
    }
   ],
   "source": [
    "display_summary(\"https://anthropic.com\")"
   ]
  },
  {
   "cell_type": "code",
   "execution_count": 36,
   "id": "db367a5c-ebe0-4efd-8245-cfda90ab7b10",
   "metadata": {},
   "outputs": [
    {
     "data": {
      "text/markdown": [
       "```markdown\n",
       "# Summary of DStv Website\n",
       "\n",
       "## Key Highlights:\n",
       "- **Upgrade Offer**: DStv is promoting an upgrade offer where customers can get a higher package at no extra cost (T&Cs apply).\n",
       "- **Showmax Integration**: Users can add Showmax to their DStv bill for access to iconic movies, series, and sports.\n",
       "- **New Shows**:\n",
       "  - **Bwana Chairman**: A comedy series airing every Sunday at 8 pm on Maisha Magic Plus.\n",
       "  - **Mkasi**: A new drama series set in Mombasa, premiering on 24 October at 8 pm on Maisha Magic Plus.\n",
       "  - **Njoro wa Uba S14**: A series following the life of an educated taxi driver.\n",
       "- **Anti-Piracy Campaign**: DStv encourages fans to support genuine sports content and provides anti-piracy contact details.\n",
       "- **DStv Streaming**: Offers streaming options for phones, tablets, laptops, and smart TVs.\n",
       "\n",
       "## News & Announcements:\n",
       "- **Special Ops: Lioness Season 2**: Premiering on M-Net (DStv Channel 102) on 24 March.\n",
       "- **The Chicago Universe Returns**: Latest updates on the One Chicago universe on M-Net.\n",
       "- **The White Lotus Season 3**: Now available on M-Net.\n",
       "- **Step Up and Save Big**: Upgrade your DStv package and get boosted to the next level at no extra cost.\n",
       "- **Team Sayari Returns**: Environmental conservation series on National Geographic Wild.\n",
       "- **Comedy Central Roast of Pearl Thusi**: An upcoming event with tickets available on Webtickets.\n",
       "- **Our Perfect Wedding Season 17**: Returns to Maisha Magic Plus with more love stories.\n",
       "- **2024 MTV EMA Nominations**: African stars shine in the nominations.\n",
       "- **New MyDStv App**: Manage your account, fix errors, and upgrade packages easily.\n",
       "- **Endurance on National Geographic**: A documentary about the discovery of Shackleton's lost ship.\n",
       "\n",
       "## Packages:\n",
       "DStv offers a variety of packages tailored to different needs, ranging from **Premium** (KSh 11,000/month) to **Lite** (KSh 750/month). Highlights include:\n",
       "- **Premium**: 175+ channels, 38 HD channels, Showmax at no extra cost, and streaming on the DStv App.\n",
       "- **Compact Plus**: 155+ channels, 30 HD channels, football, NBA, NFL, and UFC action.\n",
       "- **Compact**: 135+ channels, 22 HD channels, Premier League, WWE, and local entertainment.\n",
       "- **Family**: 120+ channels, 10 HD channels, La Liga, Serie A, and kids' edutainment.\n",
       "- **Access**: 95+ channels, 7 HD channels, select Serie A, EPL, and La Liga fixtures.\n",
       "- **Lite**: 51+ channels, 2 HD channels, local content, drama series, and soaps.\n",
       "\n",
       "## Additional Features:\n",
       "- **Self-Service Options**: Manage your DStv account, make payments, fix decoder errors, and more.\n",
       "- **DStv for Business**: Tailored solutions for businesses.\n",
       "- **Box Office**: Rent movies at KSh 250.\n",
       "- **Live TV & On-Demand Content**: Available online for streaming.\n",
       "\n",
       "## Contact & Legal:\n",
       "- **Anti-Piracy Hotline**: +27 11 289 2684\n",
       "- **Anti-Piracy Email**: [email protected]\n",
       "- **Legal Information**: Subscriber T&Cs, Privacy & Cookie Notice, and more.\n",
       "\n",
       "For more details, visit the [DStv website](https://www.dstv.com).\n",
       "```"
      ],
      "text/plain": [
       "<IPython.core.display.Markdown object>"
      ]
     },
     "metadata": {},
     "output_type": "display_data"
    }
   ],
   "source": [
    "display_summary(\"https://www.dstv.com/en-ke/\")"
   ]
  },
  {
   "cell_type": "code",
   "execution_count": 40,
   "id": "ee1a9c14-cdbf-464d-8a2c-15f7a9c0955d",
   "metadata": {},
   "outputs": [
    {
     "data": {
      "text/markdown": [
       "# Summary of KCA University Website\n",
       "\n",
       "## Overview\n",
       "KCA University is a leading institution in Kenya, offering a wide range of academic programmes, research opportunities, and student support services. The website provides comprehensive information about the university's leadership, academic offerings, campuses, and resources for students and staff.\n",
       "\n",
       "## Key Sections\n",
       "\n",
       "### **University Leadership**\n",
       "- The university is led by a team of experienced professionals, including the Chancellor, Vice Chancellor & CEO, and Deputy Vice-Chancellors overseeing Academic and Student Affairs, Finance, Planning and Development, and Research, Innovation, and Outreach.\n",
       "\n",
       "### **Academic Programmes**\n",
       "- KCA University offers a variety of programmes, including:\n",
       "  - **Undergraduate Programmes**\n",
       "  - **Diploma Programmes**\n",
       "  - **Certificate Programmes**\n",
       "  - **Professional Programmes**\n",
       "  - **Postgraduate Programmes** (Masters, PhD, Postgraduate Diploma)\n",
       "- The university is organized into several schools:\n",
       "  - School of Business\n",
       "  - School of Technology\n",
       "  - School of Education, Arts & Social Sciences\n",
       "  - KCA University Professional & Technical Training Institute (KCAU PTTI)\n",
       "\n",
       "### **Campuses**\n",
       "- The university has multiple campuses:\n",
       "  - **Town Campus** (Nairobi CBD)\n",
       "  - **Kitengela Campus**\n",
       "  - **Western Campus** (Kisumu)\n",
       "\n",
       "### **Research and Innovation**\n",
       "- KCA University emphasizes research and innovation, focusing on areas such as:\n",
       "  - Education and Learning\n",
       "  - Business, Governance, and Entrepreneurship\n",
       "  - Innovation and Technology\n",
       "  - Natural Resources and Climate Action\n",
       "  - Green and Creative Economy\n",
       "\n",
       "### **Student Support and Resources**\n",
       "- The university provides various support services for students, including:\n",
       "  - **Student Aid Programmes** (Work Study, Laptop Acquisition Programme)\n",
       "  - **Online Counselling Services** for students and staff\n",
       "  - **HELB Portal Application Link** for financial aid\n",
       "  - **2025 Academic Calendar** and **Graduation Ceremony** details\n",
       "\n",
       "### **News and Announcements**\n",
       "- **KCA University Launches Scientific and Ethics Review Committee (KCAUSERC)** to advance ethical research.\n",
       "- **KCA University Ranks Gold Tier in Good Financial Grant Practice (GFGP)**.\n",
       "- **17th Graduation Ceremony** held on 30th November 2024.\n",
       "- **Matriculation Ceremony** for the January 2025 Cohort scheduled for 7th February 2025.\n",
       "\n",
       "### **University Highlights**\n",
       "- KCA University is recognized for its academic excellence, with notable achievements such as:\n",
       "  - Ranked number one accounting university in Kenya (Google Search 2022).\n",
       "  - Best Private University in Employability (British Council Employability Report 2016).\n",
       "  - Over 40% of accountants in Kenya graduated from KCA.\n",
       "  - 90% student employability upon graduation.\n",
       "\n",
       "### **Life at KCAU**\n",
       "- The university offers a vibrant campus life with activities such as sports, Mr & Miss KCAU, and a student chill zone.\n",
       "\n",
       "### **Collaborators and Partners**\n",
       "- KCA University collaborates with various organizations to advance knowledge and drive change.\n",
       "\n",
       "## Quick Links\n",
       "- **Online Application Portal**\n",
       "- **Virtual Campus**\n",
       "- **Student Portal**\n",
       "- **Lecturer Login**\n",
       "- **Staff Login**\n",
       "- **Students Email Activation Guide**\n",
       "\n",
       "## Contact Information\n",
       "- **Phone:** 0709 813 800\n",
       "- **Email:** [Not provided in the content]\n",
       "- **Website:** [Not provided in the content]\n",
       "\n",
       "---\n",
       "\n",
       "This summary captures the essential information about KCA University, its programmes, leadership, and recent news. For more details, visit the [KCA University website](#)."
      ],
      "text/plain": [
       "<IPython.core.display.Markdown object>"
      ]
     },
     "metadata": {},
     "output_type": "display_data"
    }
   ],
   "source": [
    "display_summary(\"https://www.kcau.ac.ke/\")"
   ]
  },
  {
   "cell_type": "markdown",
   "id": "6e665d5d-e5fb-4e22-8a7e-a35f876c5bd4",
   "metadata": {},
   "source": [
    "## Conclusion\n",
    "This notebook provides a basic framework for summarizing web pages using the DeepSeek API. The code is structured to be easily extendable, and the commented-out OpenAI API code provides an alternative approach for those who might want to compare or switch between different APIs.\n",
    "\n",
    "Feel free to fork this repository and adapt it to your needs!"
   ]
  },
  {
   "cell_type": "code",
   "execution_count": null,
   "id": "f12a5e95-7d02-4b7a-aecc-b1f8db775456",
   "metadata": {},
   "outputs": [],
   "source": []
  }
 ],
 "metadata": {
  "kernelspec": {
   "display_name": "Python 3 (ipykernel)",
   "language": "python",
   "name": "python3"
  },
  "language_info": {
   "codemirror_mode": {
    "name": "ipython",
    "version": 3
   },
   "file_extension": ".py",
   "mimetype": "text/x-python",
   "name": "python",
   "nbconvert_exporter": "python",
   "pygments_lexer": "ipython3",
   "version": "3.11.11"
  }
 },
 "nbformat": 4,
 "nbformat_minor": 5
}
