{
 "cells": [
  {
   "cell_type": "markdown",
   "id": "6ac1363f-ae13-4b64-9dfd-f6cfd3da6b23",
   "metadata": {},
   "source": [
    "# Web Page Summarization using DeepSeek via Ollama HTTP API\n",
    "\n",
    "## Introduction\n",
    "\n",
    "This project demonstrates how to summarize web pages by leveraging a local DeepSeek model through Ollama's HTTP API. The script performs the following tasks:\n",
    "\n",
    "- **Fetching and Cleaning:** Retrieves the content of a web page and cleans it using BeautifulSoup.\n",
    "- **Message Construction:** Formats the content into a list of messages compatible with the model (similar to how it's done with the OpenAI API).\n",
    "- **Local Summarization:** Sends the messages to your local DeepSeek model (named `deepseek-r1:latest`) via an HTTP POST request to generate a summary.\n",
    "- **Display:** Renders the generated summary using IPython Markdown, making it ideal for interactive use in Jupyter Notebooks.\n",
    "\n",
    "This approach allows you to run AI summarization locally without relying on external API calls.\n"
   ]
  },
  {
   "cell_type": "code",
   "execution_count": 13,
   "id": "25a2e20b-d88f-40cd-95f6-2411d86dc21e",
   "metadata": {},
   "outputs": [],
   "source": [
    "#!/usr/bin/env python\n",
    "# coding: utf-8\n",
    "\n",
    "\"\"\"\n",
    "Web Page Summarization using DeepSeek via Ollama\n",
    "\n",
    "This script fetches a web page, cleans it up, builds a list of messages, and then\n",
    "calls your locally running DeepSeek model (via Ollama) to generate a summary.\n",
    "\"\"\"\n",
    "\n",
    "import os\n",
    "import json\n",
    "import requests\n",
    "from bs4 import BeautifulSoup\n",
    "from IPython.display import Markdown, display\n",
    "\n"
   ]
  },
  {
   "cell_type": "code",
   "execution_count": 14,
   "id": "9ff189ed-9140-4475-883b-b7e01c4e855f",
   "metadata": {},
   "outputs": [],
   "source": [
    "# Ollama API endpoint and configuration for your local DeepSeek model\n",
    "OLLAMA_API = \"http://localhost:11434/api/chat\"\n",
    "HEADERS = {\"Content-Type\": \"application/json\"}\n",
    "MODEL = \"deepseek-r1:latest\"  # Updated model name from your ollama list"
   ]
  },
  {
   "cell_type": "code",
   "execution_count": 15,
   "id": "df2e2c61-dd1f-4ad4-8ce1-f259381c7b31",
   "metadata": {},
   "outputs": [],
   "source": [
    "# Define a user agent for fetching websites\n",
    "headers = {\n",
    "    \"User-Agent\": (\"Mozilla/5.0 (Windows NT 10.0; Win64; x64) \"\n",
    "                   \"AppleWebKit/537.36 (KHTML, like Gecko) \"\n",
    "                   \"Chrome/117.0.0.0 Safari/537.36\")\n",
    "}\n",
    "\n",
    "class Website:\n",
    "    def __init__(self, url):\n",
    "        \"\"\"\n",
    "        Initialize the Website object by fetching and cleaning content.\n",
    "        \"\"\"\n",
    "        self.url = url\n",
    "        response = requests.get(url, headers=headers)\n",
    "        soup = BeautifulSoup(response.content, 'html.parser')\n",
    "        self.title = soup.title.string if soup.title else \"No title found\"\n",
    "        # Remove irrelevant tags\n",
    "        for tag in soup.body([\"script\", \"style\", \"img\", \"input\"]):\n",
    "            tag.decompose()\n",
    "        self.text = soup.body.get_text(separator=\"\\n\", strip=True)\n",
    "\n",
    "# def messages_for(website):\n",
    "#     \"\"\"\n",
    "#     Build a list of messages (dictionaries) for the DeepSeek model.\n",
    "#     Customize this function as needed to provide context and instructions to the model.\n",
    "#     \"\"\"\n",
    "#     messages = [\n",
    "#         {\"role\": \"system\", \"content\": \"You are an expert summarizer.\"},\n",
    "#         {\"role\": \"user\", \"content\": f\"Summarize the following web page content:\\nTitle: {website.title}\\nContent:\\n{website.text}\"}\n",
    "#     ]\n",
    "#     return messages\n",
    "\n",
    "def messages_for(website):\n",
    "    messages = [\n",
    "        {\n",
    "            \"role\": \"system\",\n",
    "            \"content\": \"You are an expert summarizer. Provide only a concise summary of the content without showing any internal reasoning or chain-of-thought.\"\n",
    "        },\n",
    "        {\n",
    "            \"role\": \"user\",\n",
    "            \"content\": f\"Summarize the following web page content:\\nTitle: {website.title}\\nContent:\\n{website.text}\"\n",
    "        }\n",
    "    ]\n",
    "    return messages"
   ]
  },
  {
   "cell_type": "code",
   "execution_count": 16,
   "id": "9b7c89ad-6b28-4572-a64d-9c0b54933dee",
   "metadata": {},
   "outputs": [],
   "source": [
    "def summarize(url):\n",
    "    \"\"\"\n",
    "    Summarize the web page content by sending a POST request to the Ollama API.\n",
    "    \"\"\"\n",
    "    website = Website(url)\n",
    "    messages = messages_for(website)\n",
    "    \n",
    "    payload = {\n",
    "        \"model\": MODEL,\n",
    "        \"messages\": messages,\n",
    "        \"stream\": False\n",
    "    }\n",
    "    \n",
    "    response = requests.post(OLLAMA_API, json=payload, headers=HEADERS)\n",
    "    if response.status_code == 200:\n",
    "        summary = response.json()['message']['content']\n",
    "    else:\n",
    "        summary = f\"Error: {response.status_code} - {response.text}\"\n",
    "    \n",
    "    return summary\n",
    "\n"
   ]
  },
  {
   "cell_type": "code",
   "execution_count": 17,
   "id": "200023ba-6007-4ed4-ad9a-aae90049ce2e",
   "metadata": {},
   "outputs": [],
   "source": [
    "def display_summary(url):\n",
    "    \"\"\"\n",
    "    Display the summary for the given URL using IPython Markdown.\n",
    "    \"\"\"\n",
    "    summary = summarize(url)\n",
    "    display(Markdown(summary))\n",
    "\n"
   ]
  },
  {
   "cell_type": "code",
   "execution_count": 18,
   "id": "667b8a86-e1f8-4d99-8d15-57d4bc3b5697",
   "metadata": {},
   "outputs": [
    {
     "name": "stdout",
     "output_type": "stream",
     "text": [
      "Generating summary for: https://opportunitiesforyoungkenyans.co.ke/\n",
      "<think>\n",
      "Okay, so I need to summarize this web page content about opportunities for young Kenyans. Let me read through it carefully.\n",
      "\n",
      "The title is \"Opportunities for Young Kenyans - Launch Your Career with Genuine Employers.\" That gives a clear indication that the site offers career launching resources.\n",
      "\n",
      "Looking at the content, there are sections like About Us, which includes goals and objectives, sources for jobs, disclaimer, direct job connection, identifying fraudulent jobs, partnerships, and contact info. This suggests the site is job listing or career guidance oriented.\n",
      "\n",
      "Then I see categories like Casual Jobs, Internships, Forums, Scholarships under a menu bar labeled \"Universities and Colleges.\" There are specific job listings: Garissa University Hiring Lecturers, AITEC Clinical Officer Trainer, Kitonga Garden Resort vacancies, among others. These seem to be permanent or specific role positions.\n",
      "\n",
      "The site also lists other job areas like Banking, Sales, Accounting, etc., with various companies hiring in those fields. They mention not supporting recruitment agencies that demand money, which is a common practice, so they're advising against these.\n",
      "\n",
      "There's a section about applying for scholarships and international programs like TIPP 2025. Additionally, career services such as internships and job listings are available across different sectors.\n",
      "\n",
      "The footer includes a note about not supporting recruitment agencies and a disclaimers section. It also links to other platforms like OYK-CVs and Internshub, which probably host resumes or job applications.\n",
      "\n",
      "They mention their design is compatible with WordPress themes and offer customer support via various social media channels.\n",
      "\n",
      "Putting it all together, the site seems to be a platform providing various career opportunities across different sectors, aimed at young Kenyans. They emphasize authenticity in recruitment and have measures against fraudulent activities.\n",
      "\n",
      "I should structure my summary to highlight these points: the purpose of the site, job categories, specific listings, disclaimers about agencies, support for applications, and contact information.\n",
      "</think>\n",
      "\n",
      "**Summary: Career Opportunities for Young Kenyans**\n",
      "\n",
      "The website is a platform dedicated to providing career opportunities and guidance to young Kenyans. It offers a variety of job listings across sectors such as universities, colleges, banking, sales, accounting, and more. Specific roles include lecturers at Garissa University, clinical officer trainers at AITEC, and various positions at Kitonga Garden Resort.\n",
      "\n",
      "Key features:\n",
      "- **Job Categories:** Casual Jobs, Internships, Forums, Scholarships, and International Programs.\n",
      "- **Sources:** Detailed job listings across different sectors with a focus on authentic recruitment practices.\n",
      "- **CAUTION:** Advises against fraudulent agencies demanding money or favors.\n",
      "- **Support:** Offers career services like internships and job applications through platforms such as OYK-CVs and Internshub.\n",
      "\n",
      "Contact information is provided, including social media links for inquiries. The site emphasizes compliance with policies on data privacy and security, ensuring a safe recruitment process.\n"
     ]
    }
   ],
   "source": [
    "# Example usage:\n",
    "if __name__ == \"__main__\":\n",
    "    # Replace with any URL you want to summarize.\n",
    "    test_url = \"https://opportunitiesforyoungkenyans.co.ke/\"\n",
    "    print(\"Generating summary for:\", test_url)\n",
    "    print(summarize(test_url))\n"
   ]
  },
  {
   "cell_type": "markdown",
   "id": "48bba7c2-1bcd-4b92-926e-f715491781ac",
   "metadata": {},
   "source": [
    "## Conclusion\n",
    "This code provides a flexible framework for summarizing web pages using a local DeepSeek model via Ollama's HTTP API. By fetching and cleaning web content, constructing an appropriate messages payload, and sending it to the model, you can generate summaries without relying on external services. Feel free to extend or customize this approach for other NLP tasks or additional model integrations."
   ]
  },
  {
   "cell_type": "code",
   "execution_count": null,
   "id": "97eb93a2-4bab-444f-95aa-1413beacac4b",
   "metadata": {},
   "outputs": [],
   "source": []
  }
 ],
 "metadata": {
  "kernelspec": {
   "display_name": "Python 3 (ipykernel)",
   "language": "python",
   "name": "python3"
  },
  "language_info": {
   "codemirror_mode": {
    "name": "ipython",
    "version": 3
   },
   "file_extension": ".py",
   "mimetype": "text/x-python",
   "name": "python",
   "nbconvert_exporter": "python",
   "pygments_lexer": "ipython3",
   "version": "3.11.11"
  }
 },
 "nbformat": 4,
 "nbformat_minor": 5
}
